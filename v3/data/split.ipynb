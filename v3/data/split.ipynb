{
 "cells": [
  {
   "cell_type": "code",
   "execution_count": 10,
   "id": "9cfd94ba",
   "metadata": {},
   "outputs": [
    {
     "name": "stdout",
     "output_type": "stream",
     "text": [
      "Data has been split and saved to separate files.\n"
     ]
    }
   ],
   "source": [
    "import pandas as pd\n",
    "\n",
    "# Load your data\n",
    "data = pd.read_excel('cleaned.xlsx', parse_dates=['Date'])  # Adjust 'date_column' to your actual date column name\n",
    "\n",
    "# Define the date ranges\n",
    "date_ranges = [\n",
    "    ('1986-05-13', '2018-01-01', '2019-01-01','2019-12-29'),\n",
    "    ('1987-05-13', '2019-01-01', '2020-01-01','2020-12-29'),\n",
    "    ('1988-05-13', '2020-01-01', '2021-01-01','2021-12-29'),\n",
    "    ('1989-05-13', '2021-01-01', '2022-01-01','2022-12-29'),\n",
    "    ('1990-05-13', '2022-01-01', '2023-01-01','2023-12-29'),\n",
    "]\n",
    "\n",
    "# Create and save DataFrames for each date range\n",
    "idx = 1\n",
    "for t1,t2,t3,t4 in date_ranges:\n",
    "    train = data[(data['Date'] >= t1) & (data['Date'] < t3)]\n",
    "    predict = data[(data['Date'] >= t3) & (data['Date'] < t4)]\n",
    "    train.to_csv(f'train{idx}.csv', index=False)\n",
    "    predict.to_csv(f'predict{idx}.csv', index=False)\n",
    "    idx+=1\n",
    "\n",
    "print(\"Data has been split and saved to separate files.\")\n"
   ]
  },
  {
   "cell_type": "code",
   "execution_count": null,
   "id": "0322d172",
   "metadata": {},
   "outputs": [],
   "source": []
  }
 ],
 "metadata": {
  "kernelspec": {
   "display_name": "Python 3 (ipykernel)",
   "language": "python",
   "name": "python3"
  },
  "language_info": {
   "codemirror_mode": {
    "name": "ipython",
    "version": 3
   },
   "file_extension": ".py",
   "mimetype": "text/x-python",
   "name": "python",
   "nbconvert_exporter": "python",
   "pygments_lexer": "ipython3",
   "version": "3.11.7"
  }
 },
 "nbformat": 4,
 "nbformat_minor": 5
}
