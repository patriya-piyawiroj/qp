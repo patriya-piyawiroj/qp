{
 "cells": [
  {
   "cell_type": "code",
   "execution_count": 24,
   "id": "9f7660aa",
   "metadata": {},
   "outputs": [
    {
     "name": "stderr",
     "output_type": "stream",
     "text": [
      "[*********************100%%**********************]  1 of 1 completed\n"
     ]
    },
    {
     "name": "stdout",
     "output_type": "stream",
     "text": [
      "Fed Rate 643\n",
      "Volume 0\n",
      "CPI 0\n",
      "GLD 0\n",
      "GLD_Close 0\n",
      "DXY 0\n",
      "SPX 0\n",
      "t 0\n",
      "            Date  Fed Rate        Volume      CPI      Price         GLD  \\\n",
      "33560 2004-11-19      1.99  1.526600e+09  190.300   446.6500   44.490002   \n",
      "33561 2004-11-20      1.99  1.526600e+09  190.300   446.6500   44.490002   \n",
      "33562 2004-11-21      1.99  1.526600e+09  190.300   446.6500   44.490002   \n",
      "33563 2004-11-22      2.01  1.392700e+09  190.300   448.2500   44.750000   \n",
      "33564 2004-11-23      2.00  1.428300e+09  190.300   446.7500   44.880001   \n",
      "...          ...       ...           ...      ...        ...         ...   \n",
      "40548 2024-01-07      5.33  3.844370e+09  312.332  2045.4956  189.679993   \n",
      "40549 2024-01-08      5.33  3.742320e+09  312.332  2027.8430  187.210007   \n",
      "40550 2024-01-09      5.33  3.529960e+09  312.332  2029.5948  188.679993   \n",
      "40551 2024-01-10      5.33  3.498680e+09  312.332  2023.4020  188.139999   \n",
      "40552 2024-01-11      5.33  3.759890e+09  312.332  2028.0900  188.020004   \n",
      "\n",
      "        GLD_Close         DXY          SPX    t  \n",
      "33560   44.779999   83.870003  1183.550049  329  \n",
      "33561   44.779999   83.870003  1183.550049  330  \n",
      "33562   44.779999   83.870003  1183.550049  331  \n",
      "33563   44.950001   83.269997  1170.339966  332  \n",
      "33564   44.750000   83.169998  1177.239990  333  \n",
      "...           ...         ...          ...  ...  \n",
      "40548  189.350006  102.400002  4690.569824    7  \n",
      "40549  187.869995  102.440002  4703.700195    8  \n",
      "40550  187.929993  102.220001  4741.930176    9  \n",
      "40551  187.500000  102.480003  4759.939941   10  \n",
      "40552  187.869995  102.300003  4792.129883   11  \n",
      "\n",
      "[6993 rows x 10 columns]\n"
     ]
    }
   ],
   "source": [
    "import matplotlib.pyplot as plt\n",
    "import pandas as pd\n",
    "from datetime import datetime\n",
    "from scipy.signal.windows import gaussian\n",
    "from scipy.ndimage import convolve1d\n",
    "import yfinance as yf\n",
    "from sklearn.preprocessing import MinMaxScaler\n",
    "\n",
    "# Init all data\n",
    "df1 = pd.read_csv('spdr.csv', usecols=['Date', 'Open', 'Close'])\n",
    "df2 = pd.read_csv('dxy.csv', usecols=['Date', 'Open', 'Close'])\n",
    "df3 = pd.read_csv('r.csv', usecols=['Date', 'Fed Rate'])\n",
    "df4 = yf.download('^GSPC', start='2002-01-01') #S&P 500\n",
    "df5 = pd.read_csv('cpi.csv', usecols=['Date', 'CPI'])\n",
    "df6 = pd.read_excel('gold.xlsx', usecols=['Date', 'Price'])\n",
    "\n",
    "# Use 'Date' column as datetime type\n",
    "df4.reset_index(inplace=True)\n",
    "df1['Date'] = pd.to_datetime(df1['Date'])\n",
    "df2['Date'] = pd.to_datetime(df2['Date'])\n",
    "df3['Date'] = pd.to_datetime(df3['Date'], dayfirst=True)\n",
    "df4['Date'] = pd.to_datetime(df4['Date'])\n",
    "df5['Date'] = pd.to_datetime(df5['Date'])\n",
    "df6['Date'] = pd.to_datetime(df6['Date'])\n",
    "\n",
    "# Clean all data\n",
    "df5.set_index('Date', inplace=True)\n",
    "daily_dates = pd.date_range(start=df5.index[0], end=df5.index[-1] + pd.offsets.MonthEnd(), freq='D')\n",
    "df5 = df5.reindex(index=daily_dates).ffill()\n",
    "df5.reset_index(inplace=True)\n",
    "df5.columns = ['Date', 'CPI']\n",
    "\n",
    "merged_df = pd.merge(df1, df2, on='Date', how='outer')\n",
    "merged_df = pd.merge(merged_df, df3, on='Date', how='outer')\n",
    "merged_df = pd.merge(merged_df, df4, on='Date', how='outer')\n",
    "merged_df = pd.merge(merged_df, df5, on='Date', how='outer')\n",
    "merged_df = pd.merge(merged_df, df6, on='Date', how='outer')\n",
    "month = merged_df['Date'].dt.month\n",
    "day = merged_df['Date'].dt.day\n",
    "\n",
    "merged_df['GLD'] = merged_df['Open_x']\n",
    "merged_df['GLD_Close'] = merged_df['Close_x']\n",
    "merged_df['DXY'] = merged_df['Open_y']\n",
    "merged_df['SPX'] = merged_df['Open']\n",
    "merged_df['t'] = (month - 1) * 31 + day\n",
    "merged_df = merged_df.drop(['High', 'Low', 'Adj Close'], axis=1)\n",
    "raw = merged_df.drop(['Close', 'Open', 'Close_x', 'Close_y', 'Open_x', 'Open_y'], axis=1)\n",
    "\n",
    "start_date = '2004-11-18'\n",
    "end_date = '2024-01-11'\n",
    "raw = raw[(raw['Date'] > start_date) & (raw['Date'] <= end_date)]\n",
    "features = ['Fed Rate', 'Volume', 'CPI', 'GLD', 'GLD_Close', 'DXY', 'SPX', 't']\n",
    "for feature in features:\n",
    "    nan_count = raw[feature].isna().sum()\n",
    "    raw.ffill(inplace=True)\n",
    "    \n",
    "print(raw)"
   ]
  },
  {
   "cell_type": "code",
   "execution_count": 19,
   "id": "6d35a4b2",
   "metadata": {},
   "outputs": [],
   "source": [
    "filename = 'raw.xlsx'\n",
    "raw.to_excel(filename, index=False)"
   ]
  },
  {
   "cell_type": "code",
   "execution_count": null,
   "id": "a81e96f3",
   "metadata": {},
   "outputs": [],
   "source": []
  },
  {
   "cell_type": "code",
   "execution_count": null,
   "id": "d68b7314",
   "metadata": {},
   "outputs": [],
   "source": []
  }
 ],
 "metadata": {
  "kernelspec": {
   "display_name": "Python 3 (ipykernel)",
   "language": "python",
   "name": "python3"
  },
  "language_info": {
   "codemirror_mode": {
    "name": "ipython",
    "version": 3
   },
   "file_extension": ".py",
   "mimetype": "text/x-python",
   "name": "python",
   "nbconvert_exporter": "python",
   "pygments_lexer": "ipython3",
   "version": "3.11.7"
  }
 },
 "nbformat": 4,
 "nbformat_minor": 5
}
