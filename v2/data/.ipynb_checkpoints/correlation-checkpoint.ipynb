{
 "cells": [
  {
   "cell_type": "code",
   "execution_count": 21,
   "id": "761aaede",
   "metadata": {},
   "outputs": [
    {
     "name": "stdout",
     "output_type": "stream",
     "text": [
      "           Date   DXY-Close    DXY-Open  XAUUSD-Close  XAUUSD-Open    XAUUSD  \\\n",
      "0    1990-01-02   94.290001   93.129997           NaN          NaN       NaN   \n",
      "1    1990-01-03   94.419998   94.150002           NaN          NaN       NaN   \n",
      "2    1990-01-04   92.519997   93.720001           NaN          NaN       NaN   \n",
      "3    1990-01-05   92.849998   93.339996           NaN          NaN       NaN   \n",
      "4    1990-01-08   92.050003   92.519997           NaN          NaN       NaN   \n",
      "...         ...         ...         ...           ...          ...       ...   \n",
      "9030 2024-05-06  105.050003  105.080002       2326.15      2293.98  0.014024   \n",
      "9031 2024-05-07  105.410004  105.139999       2315.20      2326.31 -0.004776   \n",
      "9032 2024-05-08  105.550003  105.419998       2309.05      2315.40 -0.002743   \n",
      "9033 2024-05-09  105.230003  105.519997       2345.88      2309.04  0.015955   \n",
      "9034 2024-05-10  105.249001  105.205002       2360.14      2346.26  0.005916   \n",
      "\n",
      "           DXY  \n",
      "0     0.012456  \n",
      "1     0.002868  \n",
      "2    -0.012804  \n",
      "3    -0.005250  \n",
      "4    -0.005080  \n",
      "...        ...  \n",
      "9030 -0.000285  \n",
      "9031  0.002568  \n",
      "9032  0.001233  \n",
      "9033 -0.002748  \n",
      "9034  0.000418  \n",
      "\n",
      "[9035 rows x 7 columns]\n"
     ]
    }
   ],
   "source": [
    "import matplotlib.pyplot as plt\n",
    "import pandas as pd\n",
    "from datetime import datetime\n",
    "from scipy.signal.windows import gaussian\n",
    "from scipy.ndimage import convolve1d\n",
    "import yfinance as yf\n",
    "import matplotlib.pyplot as plt\n",
    "\n",
    "\n",
    "# Init all data\n",
    "df1 = pd.read_csv('dxy.csv', usecols=['Date', 'Close', 'Open'])\n",
    "df2 = pd.read_csv('xauusd.csv', usecols=['Date', 'Price', 'Open'])\n",
    "\n",
    "# Use 'Date' column as datetime type\n",
    "df1['Date'] = pd.to_datetime(df1['Date'])\n",
    "df2['Date'] = pd.to_datetime(df2['Date'])\n",
    "\n",
    "# Merge\n",
    "merged_df = pd.merge(df1, df2, on='Date', how='inner')\n",
    "\n",
    "# Rename\n",
    "merged_df['DXY-Close'] = merged_df['Close'].astype(float)\n",
    "merged_df['DXY-Open'] = merged_df['Open_x'].astype(float)\n",
    "merged_df['XAUUSD-Close'] = merged_df['Price'].str.replace(',', '').astype(float)\n",
    "merged_df['XAUUSD-Open'] = merged_df['Open_y'].str.replace(',', '').astype(float)\n",
    "merged_df['XAUUSD'] = (merged_df['XAUUSD-Close']-merged_df['XAUUSD-Open'])/merged_df['XAUUSD-Open']\n",
    "merged_df['DXY'] = (merged_df['DXY-Close']-merged_df['DXY-Open'])/merged_df['DXY-Open']\n",
    "merged_df = merged_df.drop(['Close', 'Price','Open_x','Open_y'], axis=1)\n",
    "    \n",
    "print(merged_df)"
   ]
  },
  {
   "cell_type": "code",
   "execution_count": 17,
   "id": "f61ee54c",
   "metadata": {},
   "outputs": [
    {
     "name": "stdout",
     "output_type": "stream",
     "text": [
      "\n",
      "Correlation between 'column1' and 'column2' for each year:\n",
      "Year\n",
      "2000   -0.795555\n",
      "2001    0.018417\n",
      "2002   -0.814422\n",
      "2003   -0.773741\n",
      "2004   -0.896042\n",
      "2005    0.647136\n",
      "2006   -0.766638\n",
      "2007   -0.925409\n",
      "2008   -0.836120\n",
      "2009   -0.744050\n",
      "2010   -0.206508\n",
      "2011   -0.146855\n",
      "2012   -0.704097\n",
      "2013   -0.049451\n",
      "2014   -0.850686\n",
      "2015   -0.642199\n",
      "2016   -0.616188\n",
      "2017   -0.743908\n",
      "2018   -0.862138\n",
      "2019   -0.029595\n",
      "dtype: float64\n"
     ]
    },
    {
     "name": "stderr",
     "output_type": "stream",
     "text": [
      "/var/folders/dv/v09r6fhd6mbc4b2pf4g8mm480000gn/T/ipykernel_53823/1061212790.py:5: SettingWithCopyWarning: \n",
      "A value is trying to be set on a copy of a slice from a DataFrame.\n",
      "Try using .loc[row_indexer,col_indexer] = value instead\n",
      "\n",
      "See the caveats in the documentation: https://pandas.pydata.org/pandas-docs/stable/user_guide/indexing.html#returning-a-view-versus-a-copy\n",
      "  df['Year'] = df['Date'].dt.year\n",
      "/var/folders/dv/v09r6fhd6mbc4b2pf4g8mm480000gn/T/ipykernel_53823/1061212790.py:8: DeprecationWarning: DataFrameGroupBy.apply operated on the grouping columns. This behavior is deprecated, and in a future version of pandas the grouping columns will be excluded from the operation. Either pass `include_groups=False` to exclude the groupings or explicitly select the grouping columns after groupby to silence this warning.\n",
      "  correlations = df.groupby('Year').apply(lambda x: x['DXY-Close'].corr(x['XAUUSD-Close']))\n"
     ]
    }
   ],
   "source": [
    "df = merged_df[['Date', 'DXY-Close', 'XAUUSD-Close']]\n",
    "\n",
    "df['Year'] = df['Date'].dt.year\n",
    "\n",
    "# Group by 'year' and calculate the correlation between 'column1' and 'column2'\n",
    "correlations = df.groupby('Year').apply(lambda x: x['DXY-Close'].corr(x['XAUUSD-Close']))\n",
    "\n",
    "print(\"\\nCorrelation between 'column1' and 'column2' for each year:\")\n",
    "print(correlations)"
   ]
  },
  {
   "cell_type": "code",
   "execution_count": null,
   "id": "d126036b",
   "metadata": {},
   "outputs": [],
   "source": [
    "seasonal = "
   ]
  },
  {
   "cell_type": "code",
   "execution_count": null,
   "id": "fa2eaff9",
   "metadata": {},
   "outputs": [],
   "source": []
  }
 ],
 "metadata": {
  "kernelspec": {
   "display_name": "Python 3 (ipykernel)",
   "language": "python",
   "name": "python3"
  },
  "language_info": {
   "codemirror_mode": {
    "name": "ipython",
    "version": 3
   },
   "file_extension": ".py",
   "mimetype": "text/x-python",
   "name": "python",
   "nbconvert_exporter": "python",
   "pygments_lexer": "ipython3",
   "version": "3.11.7"
  }
 },
 "nbformat": 4,
 "nbformat_minor": 5
}
