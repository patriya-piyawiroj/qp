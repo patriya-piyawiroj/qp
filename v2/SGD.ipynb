{
 "cells": [
  {
   "cell_type": "code",
   "execution_count": 6,
   "id": "691c0128",
   "metadata": {},
   "outputs": [
    {
     "name": "stdout",
     "output_type": "stream",
     "text": [
      "starting\n",
      "Accuracy: 0.557090625\n",
      "              precision    recall  f1-score   support\n",
      "\n",
      "    negative       0.55      0.63      0.59    159494\n",
      "    positive       0.57      0.48      0.52    160506\n",
      "\n",
      "    accuracy                           0.56    320000\n",
      "   macro avg       0.56      0.56      0.55    320000\n",
      "weighted avg       0.56      0.56      0.55    320000\n",
      "\n"
     ]
    }
   ],
   "source": [
    "import numpy as np\n",
    "from sklearn.feature_extraction.text import TfidfVectorizer\n",
    "from sklearn.kernel_approximation import RBFSampler\n",
    "from sklearn.linear_model import SGDClassifier\n",
    "from sklearn.model_selection import train_test_split\n",
    "from sklearn.metrics import classification_report, accuracy_score\n",
    "from sklearn.pipeline import Pipeline\n",
    "from sklearn.preprocessing import StandardScaler\n",
    "import pandas as pd\n",
    "import re\n",
    "\n",
    "# Step 1: Load and preprocess data\n",
    "# Note: Adjust the file path as necessary\n",
    "print(\"Step 1: load data\")\n",
    "column_names = ['target', 'ids', 'date', 'flag', 'user', 'text']\n",
    "df = pd.read_csv('data/sentiment140.csv', encoding='latin-1', names=column_names)\n",
    "df = df[['text', 'target']]\n",
    "df['target'] = df['target'].map({0: 'negative', 2: 'neutral', 4: 'positive'})\n",
    "\n",
    "def preprocess_text(text):\n",
    "    text = re.sub(r'http\\S+|www\\S+|https\\S+', '', text, flags=re.MULTILINE)\n",
    "    text = re.sub(r'\\@\\w+|\\#', '', text)\n",
    "    text = re.sub(r'[^\\w\\s]', '', text)\n",
    "    return text\n",
    "\n",
    "df['text'] = df['text'].apply(preprocess_text)\n",
    "\n",
    "# Step 2: Split the data\n",
    "print(\"Step 2: split data\")\n",
    "X_train, X_test, y_train, y_test = train_test_split(df['text'], df['target'], test_size=0.2, random_state=42)\n",
    "\n",
    "# Step 3: Feature Extraction and Kernel Approximation\n",
    "print(\"Step 3: feature extraction\")\n",
    "tfidf = TfidfVectorizer(max_features=10000)  # You can adjust max_features according to your needs\n",
    "rbf_feature = RBFSampler(gamma=1, random_state=1)\n",
    "\n",
    "# Step 4: Model Training\n",
    "print(\"Step 4: model training\")\n",
    "sgd = SGDClassifier(max_iter=1000, tol=1e-3)\n",
    "\n",
    "pipeline = Pipeline([\n",
    "    ('tfidf', tfidf),\n",
    "    ('rbf_feature', rbf_feature),\n",
    "    ('scaler', StandardScaler(with_mean=False)),  # StandardScaler to scale RBF features\n",
    "    ('sgd', sgd)\n",
    "])\n",
    "\n",
    "pipeline.fit(X_train, y_train)\n",
    "\n",
    "# Step 5: Evaluation\n",
    "print(\"Step 5: eval\")\n",
    "y_pred = pipeline.predict(X_test)\n",
    "print(\"Accuracy:\", accuracy_score(y_test, y_pred))\n",
    "print(classification_report(y_test, y_pred))\n"
   ]
  },
  {
   "cell_type": "code",
   "execution_count": null,
   "id": "bcb6bdd3",
   "metadata": {},
   "outputs": [],
   "source": []
  }
 ],
 "metadata": {
  "kernelspec": {
   "display_name": "Python 3 (ipykernel)",
   "language": "python",
   "name": "python3"
  },
  "language_info": {
   "codemirror_mode": {
    "name": "ipython",
    "version": 3
   },
   "file_extension": ".py",
   "mimetype": "text/x-python",
   "name": "python",
   "nbconvert_exporter": "python",
   "pygments_lexer": "ipython3",
   "version": "3.11.7"
  }
 },
 "nbformat": 4,
 "nbformat_minor": 5
}
