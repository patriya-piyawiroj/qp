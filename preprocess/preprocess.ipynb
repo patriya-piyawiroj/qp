{
 "cells": [
  {
   "cell_type": "code",
   "execution_count": 10,
   "id": "c183709c-6afe-4bbd-9da5-361d7c008955",
   "metadata": {},
   "outputs": [
    {
     "name": "stderr",
     "output_type": "stream",
     "text": [
      "\r",
      "[*********************100%%**********************]  1 of 1 completed"
     ]
    },
    {
     "name": "stdout",
     "output_type": "stream",
     "text": [
      "            Date  Fed Rate    Close      CPI     Open         DXY  \\\n",
      "1625  1986-05-15      7.00   339.57  110.500   340.81  111.500000   \n",
      "1626  1986-05-16      6.80   340.81  110.500   341.13  112.559998   \n",
      "1627  1986-05-19      6.89   338.21  110.500   340.40  113.279999   \n",
      "1628  1986-05-20      6.86   336.03  110.500   337.90  112.919998   \n",
      "1629  1986-05-21      6.96   335.93  110.500   336.65  113.529999   \n",
      "...          ...       ...      ...      ...      ...         ...   \n",
      "11407 2023-12-26      5.33  2067.20  306.746  2055.73  101.650002   \n",
      "11408 2023-12-27      5.33  2077.00  306.746  2066.70  101.550003   \n",
      "11409 2023-12-28      5.33  2066.04  306.746  2077.34  100.870003   \n",
      "11410 2023-12-29      5.33  2062.59  306.746  2065.15  101.199997   \n",
      "11411 2024-01-01      5.33  2063.80  308.417  2064.24  101.199997   \n",
      "\n",
      "               SPX    t  \n",
      "1625    237.539993  139  \n",
      "1626    234.429993  140  \n",
      "1627    232.759995  143  \n",
      "1628    233.199997  144  \n",
      "1629    236.110001  145  \n",
      "...            ...  ...  \n",
      "11407  4758.859863  367  \n",
      "11408  4773.450195  368  \n",
      "11409  4786.439941  369  \n",
      "11410  4782.879883  370  \n",
      "11411  4782.879883    1  \n",
      "\n",
      "[9787 rows x 8 columns]\n"
     ]
    },
    {
     "name": "stderr",
     "output_type": "stream",
     "text": [
      "\n"
     ]
    }
   ],
   "source": [
    "import matplotlib.pyplot as plt\n",
    "import pandas as pd\n",
    "from datetime import datetime\n",
    "from scipy.signal.windows import gaussian\n",
    "from scipy.ndimage import convolve1d\n",
    "import yfinance as yf\n",
    "import matplotlib.pyplot as plt\n",
    "\n",
    "\n",
    "# Init all data\n",
    "df1 = pd.read_excel('xauusd.xlsx', usecols=['Date', 'Open', 'Price'])\n",
    "df2 = pd.read_csv('dxy.csv', usecols=['Date', 'Open'])\n",
    "df3 = pd.read_csv('r.csv', usecols=['Date', 'Fed Rate'])\n",
    "df4 = yf.download('^GSPC', start='1930-01-01') #S&P 500\n",
    "df5 = pd.read_csv('cpi.csv', usecols=['Date', 'CPI'])\n",
    "\n",
    "# Use 'Date' column as datetime type\n",
    "df4.reset_index(inplace=True)\n",
    "df1['Date'] = pd.to_datetime(df1['Date'])\n",
    "df2['Date'] = pd.to_datetime(df2['Date'])\n",
    "df3['Date'] = pd.to_datetime(df3['Date'], dayfirst=True)\n",
    "df4['Date'] = pd.to_datetime(df4['Date'])\n",
    "df5['Date'] = pd.to_datetime(df5['Date'])\n",
    "\n",
    "# Clean all data\n",
    "df5.set_index('Date', inplace=True)\n",
    "daily_dates = pd.date_range(start=df5.index[0], end=df5.index[-1] + pd.offsets.MonthEnd(), freq='D')\n",
    "df5 = df5.reindex(index=daily_dates).ffill()\n",
    "df5.reset_index(inplace=True)\n",
    "df5.columns = ['Date', 'CPI']\n",
    "\n",
    "merged_df = pd.merge(df2, df3, on='Date', how='outer')\n",
    "merged_df = pd.merge(merged_df, df4, on='Date', how='outer')\n",
    "merged_df = pd.merge(merged_df, df5, on='Date', how='outer')\n",
    "merged_df = pd.merge(merged_df, df1, on='Date', how='right')\n",
    "month = merged_df['Date'].dt.month\n",
    "day = merged_df['Date'].dt.day\n",
    "\n",
    "merged_df['Close'] = merged_df['Price'].replace(',', '', regex=True).astype(float)\n",
    "merged_df['Open'] = merged_df['Open'].replace(',', '', regex=True).astype(float)\n",
    "merged_df['DXY'] = merged_df['Open_x']\n",
    "merged_df['SPX'] = merged_df['Open_y']\n",
    "merged_df['t'] = (month - 1) * 31 + day\n",
    "merged_df = merged_df.drop(['High', 'Low', 'Adj Close', 'Volume'], axis=1)\n",
    "raw = merged_df.drop(['Open_y', 'Price', 'Open_x'], axis=1)\n",
    "\n",
    "start_date = '1986-05-14' # day with diff in close and open\n",
    "end_date = '2024-01-01'\n",
    "raw = raw[(raw['Date'] > start_date) & (raw['Date'] <= end_date)]\n",
    "features = ['Open', 'Close','Fed Rate', 'CPI', 'DXY', 't']\n",
    "for feature in features:\n",
    "    nan_count = raw[feature].isna().sum()\n",
    "    raw.ffill(inplace=True)\n",
    "    \n",
    "print(raw)"
   ]
  },
  {
   "cell_type": "code",
   "execution_count": 11,
   "id": "187cd2a1-cc3b-4d1c-8a59-08cedb77b603",
   "metadata": {},
   "outputs": [],
   "source": [
    "raw.to_excel('raw.xlsx') "
   ]
  },
  {
   "cell_type": "code",
   "execution_count": 9,
   "id": "1cbbb938-ba59-408e-af3d-e457fd678822",
   "metadata": {},
   "outputs": [],
   "source": [
    "# XAUUSD merging\n",
    "df1 = pd.read_csv('xauusd1.csv', usecols=['Date', 'Open', 'Price'])\n",
    "df11 = pd.read_csv('xauusd4.csv', usecols=['Date', 'Open', 'Price'])\n",
    "df1['Date'] = pd.to_datetime(df1['Date'])\n",
    "df11['Date'] = pd.to_datetime(df11['Date'])\n",
    "merged_df = pd.concat([df1, df11]).drop_duplicates(subset='Date').sort_values(by='Date')\n",
    "merged_df.to_excel('xauusd.xlsx', index=False)"
   ]
  },
  {
   "cell_type": "code",
   "execution_count": null,
   "id": "6e4bba2d-2c5a-4a86-bbf7-b38d5bfa5f34",
   "metadata": {},
   "outputs": [],
   "source": []
  },
  {
   "cell_type": "code",
   "execution_count": null,
   "id": "595b8b45-c22d-4b29-9a9f-ad61d90acf99",
   "metadata": {},
   "outputs": [],
   "source": []
  },
  {
   "cell_type": "code",
   "execution_count": null,
   "id": "d9f88838-7ddc-41e7-bfff-1641f18df27c",
   "metadata": {},
   "outputs": [],
   "source": []
  }
 ],
 "metadata": {
  "kernelspec": {
   "display_name": "Python 3 (ipykernel)",
   "language": "python",
   "name": "python3"
  },
  "language_info": {
   "codemirror_mode": {
    "name": "ipython",
    "version": 3
   },
   "file_extension": ".py",
   "mimetype": "text/x-python",
   "name": "python",
   "nbconvert_exporter": "python",
   "pygments_lexer": "ipython3",
   "version": "3.11.7"
  }
 },
 "nbformat": 4,
 "nbformat_minor": 5
}
