{
 "cells": [
  {
   "cell_type": "code",
   "execution_count": 44,
   "id": "adce0e13",
   "metadata": {},
   "outputs": [
    {
     "name": "stdout",
     "output_type": "stream",
     "text": [
      "315.32308611558744\n",
      "660 1729\n",
      "0 0\n"
     ]
    }
   ],
   "source": [
    "import torch\n",
    "import torch.nn as nn\n",
    "import torch.optim as optim\n",
    "import numpy as np\n",
    "import matplotlib\n",
    "matplotlib.use('Agg')\n",
    "import matplotlib.pyplot as plt\n",
    "import math\n",
    "\n",
    "model = torch.jit.load(\"traced_model.pt\")\n",
    "model.eval() \n",
    "\n",
    "window = 30\n",
    "data = torch.load('data/cleaned.pt')\n",
    "\n",
    "prices = data['SPDR'].to_numpy()\n",
    "num_train = math.floor(prices.shape[0]*0.8-window)\n",
    "prices = prices[num_train:]\n",
    "\n",
    "inputs = data[['Gold', 'SPX', 'DXY', 't', 'CPI_pct', 'Volume', 'Fed Rate']].to_numpy()\n",
    "test_input = torch.from_numpy(inputs[num_train:, :])\n",
    "test_input = torch.stack([test_input[i:i+window] for i in range(test_input.size(0) - window)])\n",
    "\n",
    "funds = 0\n",
    "correct_up = 0\n",
    "correct_down = 0\n",
    "up = 0\n",
    "down = 0\n",
    "with torch.no_grad(): \n",
    "    test_output = model(test_input)\n",
    "    returns = test_output[:, -1, 0]\n",
    "    \n",
    "    for i in range(0,len(returns)-1):\n",
    "        today = 30+i\n",
    "        pct = returns[i]*0.128900121790875\n",
    "        if pct < 0:\n",
    "            up+=1\n",
    "            units_bought = 1000/prices[today]\n",
    "            profit = units_bought*prices[today+1] - 1000\n",
    "            funds += profit\n",
    "            if prices[today+1] > prices[today]:\n",
    "                correct_up+=1\n",
    "#         else:\n",
    "#             down+=1\n",
    "#             units_sold = 1000/prices[today]\n",
    "#             funds -= units_sold*prices[today+1] + 1000\n",
    "#             if prices[today+1] < prices[today]:\n",
    "#                 correct_down+=1\n",
    "                \n",
    "print(funds)\n",
    "print(correct_up, up)\n",
    "print(correct_down, down)\n",
    "            "
   ]
  },
  {
   "cell_type": "code",
   "execution_count": 24,
   "id": "41b78979",
   "metadata": {},
   "outputs": [
    {
     "name": "stdout",
     "output_type": "stream",
     "text": [
      "torch.Size([3006, 30, 1])\n"
     ]
    },
    {
     "ename": "NameError",
     "evalue": "name 'max_gold' is not defined",
     "output_type": "error",
     "traceback": [
      "\u001b[0;31m---------------------------------------------------------------------------\u001b[0m",
      "\u001b[0;31mNameError\u001b[0m                                 Traceback (most recent call last)",
      "Cell \u001b[0;32mIn[24], line 17\u001b[0m\n\u001b[1;32m     15\u001b[0m pred \u001b[38;5;241m=\u001b[39m model(current_input)\n\u001b[1;32m     16\u001b[0m item \u001b[38;5;241m=\u001b[39m pred[:, \u001b[38;5;241m-\u001b[39m\u001b[38;5;241m1\u001b[39m]\u001b[38;5;241m.\u001b[39mitem()\n\u001b[0;32m---> 17\u001b[0m predicted_return \u001b[38;5;241m=\u001b[39m item\u001b[38;5;241m*\u001b[39mmax_gold\u001b[38;5;241m*\u001b[39m\u001b[38;5;241m100\u001b[39m\u001b[38;5;241m+\u001b[39m\u001b[38;5;241m1\u001b[39m    \n\u001b[1;32m     18\u001b[0m \u001b[38;5;28mopen\u001b[39m \u001b[38;5;241m=\u001b[39m prices[day\u001b[38;5;241m+\u001b[39m\u001b[38;5;241m29\u001b[39m]\n\u001b[1;32m     19\u001b[0m sign \u001b[38;5;241m=\u001b[39m \u001b[38;5;124m'\u001b[39m\u001b[38;5;124m+\u001b[39m\u001b[38;5;124m'\u001b[39m\n",
      "\u001b[0;31mNameError\u001b[0m: name 'max_gold' is not defined"
     ]
    }
   ],
   "source": [
    "funds = 5000\n",
    "wrong = 0\n",
    "total = 0\n",
    "units = 0\n",
    "\n",
    "new_input_data = torch.randn(10000, 30, 7)  # New example input data\n",
    "with torch.no_grad():  # Disable gradient computation\n",
    "    new_output = model(test_input)\n",
    "    print(new_output.size())  # Should print [10000, 30, 1]\n",
    "\n",
    "for day in range(1, test_input.shape[0]-window-1):\n",
    "# for day in range(1, 50):\n",
    "    current_input = test_input[day].unsqueeze(0)\n",
    "#     print(current_input.shape) # 1, 30, 7\n",
    "    pred = model(current_input)\n",
    "    item = pred[:, -1].item()\n",
    "    predicted_return = item*max_gold*100+1    \n",
    "    open = prices[day+29]\n",
    "    sign = '+'\n",
    "    if (prices[day+30] < prices[day+29]):\n",
    "        sign = '-'\n",
    "#     print(sign, f\"{predicted_return:.3f}\", open, prices[day+28])\n",
    "    predicted_close = predicted_return*open\n",
    "    if units != 0:\n",
    "        funds += units*open\n",
    "        units = 0\n",
    "\n",
    "    if predicted_return > 0:\n",
    "        funds -= 1000\n",
    "        units += 1000/open\n",
    "        if sign == '-':\n",
    "            wrong += 1\n",
    "    elif predicted_return < 0:\n",
    "        funds += 1000\n",
    "        units -= 1000/open\n",
    "        if sign == '+':\n",
    "            wrong +=1\n",
    "    total +=1\n",
    "#     print(position, units, funds)\n",
    "#     predicted_close = predicted_return*prices[day+29]\n",
    "\n",
    "if units != 0:\n",
    "    funds += units*open\n",
    "    units = 0\n",
    "print(position, units, funds)\n",
    "print(wrong, total)"
   ]
  },
  {
   "cell_type": "code",
   "execution_count": null,
   "id": "0aeb7f08",
   "metadata": {},
   "outputs": [],
   "source": []
  }
 ],
 "metadata": {
  "kernelspec": {
   "display_name": "Python 3 (ipykernel)",
   "language": "python",
   "name": "python3"
  },
  "language_info": {
   "codemirror_mode": {
    "name": "ipython",
    "version": 3
   },
   "file_extension": ".py",
   "mimetype": "text/x-python",
   "name": "python",
   "nbconvert_exporter": "python",
   "pygments_lexer": "ipython3",
   "version": "3.11.7"
  }
 },
 "nbformat": 4,
 "nbformat_minor": 5
}
